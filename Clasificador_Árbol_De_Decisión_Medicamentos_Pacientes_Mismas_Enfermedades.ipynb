{
 "cells": [
  {
   "cell_type": "markdown",
   "id": "baff48b5",
   "metadata": {},
   "source": [
    "### Clasificador_Árbol_De_Decisión_Medicamentos_Pacientes_Mismas_Enfermedades\n",
    "\n",
    "El código proporcionado importa varias bibliotecas esenciales en el ámbito del análisis de datos y el modelado de aprendizaje automático en Python."
   ]
  },
  {
   "cell_type": "code",
   "execution_count": 2,
   "id": "95c8a5a2",
   "metadata": {
    "_cell_guid": "b1076dfc-b9ad-4769-8c92-a6c4dae69d19",
    "_uuid": "8f2839f25d086af736a60e9eeb907d3b93b6e0e5",
    "execution": {
     "iopub.execute_input": "2022-02-21T09:09:03.179302Z",
     "iopub.status.busy": "2022-02-21T09:09:03.178368Z",
     "iopub.status.idle": "2022-02-21T09:09:04.339732Z",
     "shell.execute_reply": "2022-02-21T09:09:04.339112Z",
     "shell.execute_reply.started": "2022-02-21T08:49:23.165726Z"
    },
    "papermill": {
     "duration": 1.193006,
     "end_time": "2022-02-21T09:09:04.339879",
     "exception": false,
     "start_time": "2022-02-21T09:09:03.146873",
     "status": "completed"
    },
    "tags": []
   },
   "outputs": [],
   "source": [
    "import pandas as pd #Esta línea importa la biblioteca pandas y la renombra como pd, lo que nos permite utilizar las funciones y objetos de pandas en nuestro código.\n",
    "import numpy as np\n",
    "import matplotlib.pyplot as plt\n",
    "import seaborn as sns\n",
    "from sklearn.model_selection import train_test_split, GridSearchCV, RandomizedSearchCV\n",
    "from sklearn.tree import DecisionTreeClassifier\n",
    "from sklearn.metrics import accuracy_score, confusion_matrix\n",
    "from sklearn.preprocessing import LabelEncoder"
   ]
  },
  {
   "cell_type": "code",
   "execution_count": 3,
   "id": "2b108a88",
   "metadata": {
    "execution": {
     "iopub.execute_input": "2022-02-21T09:09:04.460934Z",
     "iopub.status.busy": "2022-02-21T09:09:04.460254Z",
     "iopub.status.idle": "2022-02-21T09:09:04.471136Z",
     "shell.execute_reply": "2022-02-21T09:09:04.471592Z",
     "shell.execute_reply.started": "2022-02-21T08:49:23.182824Z"
    },
    "papermill": {
     "duration": 0.044825,
     "end_time": "2022-02-21T09:09:04.471774",
     "exception": false,
     "start_time": "2022-02-21T09:09:04.426949",
     "status": "completed"
    },
    "tags": []
   },
   "outputs": [
    {
     "data": {
      "text/html": [
       "<div>\n",
       "<style scoped>\n",
       "    .dataframe tbody tr th:only-of-type {\n",
       "        vertical-align: middle;\n",
       "    }\n",
       "\n",
       "    .dataframe tbody tr th {\n",
       "        vertical-align: top;\n",
       "    }\n",
       "\n",
       "    .dataframe thead th {\n",
       "        text-align: right;\n",
       "    }\n",
       "</style>\n",
       "<table border=\"1\" class=\"dataframe\">\n",
       "  <thead>\n",
       "    <tr style=\"text-align: right;\">\n",
       "      <th></th>\n",
       "      <th>Age</th>\n",
       "      <th>Sex</th>\n",
       "      <th>BP</th>\n",
       "      <th>Cholesterol</th>\n",
       "      <th>Na_to_K</th>\n",
       "      <th>Drug</th>\n",
       "    </tr>\n",
       "  </thead>\n",
       "  <tbody>\n",
       "    <tr>\n",
       "      <th>0</th>\n",
       "      <td>23</td>\n",
       "      <td>F</td>\n",
       "      <td>HIGH</td>\n",
       "      <td>HIGH</td>\n",
       "      <td>25.355</td>\n",
       "      <td>drugY</td>\n",
       "    </tr>\n",
       "    <tr>\n",
       "      <th>1</th>\n",
       "      <td>47</td>\n",
       "      <td>M</td>\n",
       "      <td>LOW</td>\n",
       "      <td>HIGH</td>\n",
       "      <td>13.093</td>\n",
       "      <td>drugC</td>\n",
       "    </tr>\n",
       "    <tr>\n",
       "      <th>2</th>\n",
       "      <td>47</td>\n",
       "      <td>M</td>\n",
       "      <td>LOW</td>\n",
       "      <td>HIGH</td>\n",
       "      <td>10.114</td>\n",
       "      <td>drugC</td>\n",
       "    </tr>\n",
       "    <tr>\n",
       "      <th>3</th>\n",
       "      <td>28</td>\n",
       "      <td>F</td>\n",
       "      <td>NORMAL</td>\n",
       "      <td>HIGH</td>\n",
       "      <td>7.798</td>\n",
       "      <td>drugX</td>\n",
       "    </tr>\n",
       "    <tr>\n",
       "      <th>4</th>\n",
       "      <td>61</td>\n",
       "      <td>F</td>\n",
       "      <td>LOW</td>\n",
       "      <td>HIGH</td>\n",
       "      <td>18.043</td>\n",
       "      <td>drugY</td>\n",
       "    </tr>\n",
       "    <tr>\n",
       "      <th>...</th>\n",
       "      <td>...</td>\n",
       "      <td>...</td>\n",
       "      <td>...</td>\n",
       "      <td>...</td>\n",
       "      <td>...</td>\n",
       "      <td>...</td>\n",
       "    </tr>\n",
       "    <tr>\n",
       "      <th>195</th>\n",
       "      <td>56</td>\n",
       "      <td>F</td>\n",
       "      <td>LOW</td>\n",
       "      <td>HIGH</td>\n",
       "      <td>11.567</td>\n",
       "      <td>drugC</td>\n",
       "    </tr>\n",
       "    <tr>\n",
       "      <th>196</th>\n",
       "      <td>16</td>\n",
       "      <td>M</td>\n",
       "      <td>LOW</td>\n",
       "      <td>HIGH</td>\n",
       "      <td>12.006</td>\n",
       "      <td>drugC</td>\n",
       "    </tr>\n",
       "    <tr>\n",
       "      <th>197</th>\n",
       "      <td>52</td>\n",
       "      <td>M</td>\n",
       "      <td>NORMAL</td>\n",
       "      <td>HIGH</td>\n",
       "      <td>9.894</td>\n",
       "      <td>drugX</td>\n",
       "    </tr>\n",
       "    <tr>\n",
       "      <th>198</th>\n",
       "      <td>23</td>\n",
       "      <td>M</td>\n",
       "      <td>NORMAL</td>\n",
       "      <td>NORMAL</td>\n",
       "      <td>14.020</td>\n",
       "      <td>drugX</td>\n",
       "    </tr>\n",
       "    <tr>\n",
       "      <th>199</th>\n",
       "      <td>40</td>\n",
       "      <td>F</td>\n",
       "      <td>LOW</td>\n",
       "      <td>NORMAL</td>\n",
       "      <td>11.349</td>\n",
       "      <td>drugX</td>\n",
       "    </tr>\n",
       "  </tbody>\n",
       "</table>\n",
       "<p>200 rows × 6 columns</p>\n",
       "</div>"
      ],
      "text/plain": [
       "     Age Sex      BP Cholesterol  Na_to_K   Drug\n",
       "0     23   F    HIGH        HIGH   25.355  drugY\n",
       "1     47   M     LOW        HIGH   13.093  drugC\n",
       "2     47   M     LOW        HIGH   10.114  drugC\n",
       "3     28   F  NORMAL        HIGH    7.798  drugX\n",
       "4     61   F     LOW        HIGH   18.043  drugY\n",
       "..   ...  ..     ...         ...      ...    ...\n",
       "195   56   F     LOW        HIGH   11.567  drugC\n",
       "196   16   M     LOW        HIGH   12.006  drugC\n",
       "197   52   M  NORMAL        HIGH    9.894  drugX\n",
       "198   23   M  NORMAL      NORMAL   14.020  drugX\n",
       "199   40   F     LOW      NORMAL   11.349  drugX\n",
       "\n",
       "[200 rows x 6 columns]"
      ]
     },
     "execution_count": 3,
     "metadata": {},
     "output_type": "execute_result"
    }
   ],
   "source": [
    "data = pd.read_csv('drug200.csv')#Leer los datos de Medicamentos200.\n",
    "data\n",
    "\n",
    "#     0    1      2      3        4       5"
   ]
  },
  {
   "cell_type": "markdown",
   "id": "67959857",
   "metadata": {},
   "source": [
    "El siguiente código selecciona columnas específicas de un DataFrame utilizando la función iloc en el módulo pandas. La variable *a* almacena las columnas 1, 2, 3 y 5 del DataFrame, mientras que la variable *b* almacena las columnas 0 y 4."
   ]
  },
  {
   "cell_type": "code",
   "execution_count": 40,
   "id": "15fd6568",
   "metadata": {},
   "outputs": [
    {
     "data": {
      "text/html": [
       "<div>\n",
       "<style scoped>\n",
       "    .dataframe tbody tr th:only-of-type {\n",
       "        vertical-align: middle;\n",
       "    }\n",
       "\n",
       "    .dataframe tbody tr th {\n",
       "        vertical-align: top;\n",
       "    }\n",
       "\n",
       "    .dataframe thead th {\n",
       "        text-align: right;\n",
       "    }\n",
       "</style>\n",
       "<table border=\"1\" class=\"dataframe\">\n",
       "  <thead>\n",
       "    <tr style=\"text-align: right;\">\n",
       "      <th></th>\n",
       "      <th>Sex</th>\n",
       "      <th>BP</th>\n",
       "      <th>Cholesterol</th>\n",
       "      <th>Drug</th>\n",
       "    </tr>\n",
       "  </thead>\n",
       "  <tbody>\n",
       "    <tr>\n",
       "      <th>0</th>\n",
       "      <td>F</td>\n",
       "      <td>HIGH</td>\n",
       "      <td>HIGH</td>\n",
       "      <td>drugY</td>\n",
       "    </tr>\n",
       "    <tr>\n",
       "      <th>1</th>\n",
       "      <td>M</td>\n",
       "      <td>LOW</td>\n",
       "      <td>HIGH</td>\n",
       "      <td>drugC</td>\n",
       "    </tr>\n",
       "    <tr>\n",
       "      <th>2</th>\n",
       "      <td>M</td>\n",
       "      <td>LOW</td>\n",
       "      <td>HIGH</td>\n",
       "      <td>drugC</td>\n",
       "    </tr>\n",
       "    <tr>\n",
       "      <th>3</th>\n",
       "      <td>F</td>\n",
       "      <td>NORMAL</td>\n",
       "      <td>HIGH</td>\n",
       "      <td>drugX</td>\n",
       "    </tr>\n",
       "    <tr>\n",
       "      <th>4</th>\n",
       "      <td>F</td>\n",
       "      <td>LOW</td>\n",
       "      <td>HIGH</td>\n",
       "      <td>drugY</td>\n",
       "    </tr>\n",
       "    <tr>\n",
       "      <th>...</th>\n",
       "      <td>...</td>\n",
       "      <td>...</td>\n",
       "      <td>...</td>\n",
       "      <td>...</td>\n",
       "    </tr>\n",
       "    <tr>\n",
       "      <th>195</th>\n",
       "      <td>F</td>\n",
       "      <td>LOW</td>\n",
       "      <td>HIGH</td>\n",
       "      <td>drugC</td>\n",
       "    </tr>\n",
       "    <tr>\n",
       "      <th>196</th>\n",
       "      <td>M</td>\n",
       "      <td>LOW</td>\n",
       "      <td>HIGH</td>\n",
       "      <td>drugC</td>\n",
       "    </tr>\n",
       "    <tr>\n",
       "      <th>197</th>\n",
       "      <td>M</td>\n",
       "      <td>NORMAL</td>\n",
       "      <td>HIGH</td>\n",
       "      <td>drugX</td>\n",
       "    </tr>\n",
       "    <tr>\n",
       "      <th>198</th>\n",
       "      <td>M</td>\n",
       "      <td>NORMAL</td>\n",
       "      <td>NORMAL</td>\n",
       "      <td>drugX</td>\n",
       "    </tr>\n",
       "    <tr>\n",
       "      <th>199</th>\n",
       "      <td>F</td>\n",
       "      <td>LOW</td>\n",
       "      <td>NORMAL</td>\n",
       "      <td>drugX</td>\n",
       "    </tr>\n",
       "  </tbody>\n",
       "</table>\n",
       "<p>200 rows × 4 columns</p>\n",
       "</div>"
      ],
      "text/plain": [
       "    Sex      BP Cholesterol   Drug\n",
       "0     F    HIGH        HIGH  drugY\n",
       "1     M     LOW        HIGH  drugC\n",
       "2     M     LOW        HIGH  drugC\n",
       "3     F  NORMAL        HIGH  drugX\n",
       "4     F     LOW        HIGH  drugY\n",
       "..   ..     ...         ...    ...\n",
       "195   F     LOW        HIGH  drugC\n",
       "196   M     LOW        HIGH  drugC\n",
       "197   M  NORMAL        HIGH  drugX\n",
       "198   M  NORMAL      NORMAL  drugX\n",
       "199   F     LOW      NORMAL  drugX\n",
       "\n",
       "[200 rows x 4 columns]"
      ]
     },
     "execution_count": 40,
     "metadata": {},
     "output_type": "execute_result"
    }
   ],
   "source": [
    "#Variables Categóricas\n",
    "#.iloc[Filas:,colum1,colum2, column3]\n",
    "\n",
    "a = data.iloc[:, [1,2,3,5]]\n",
    "a"
   ]
  },
  {
   "cell_type": "code",
   "execution_count": 41,
   "id": "a29bd7c6",
   "metadata": {},
   "outputs": [
    {
     "data": {
      "text/html": [
       "<div>\n",
       "<style scoped>\n",
       "    .dataframe tbody tr th:only-of-type {\n",
       "        vertical-align: middle;\n",
       "    }\n",
       "\n",
       "    .dataframe tbody tr th {\n",
       "        vertical-align: top;\n",
       "    }\n",
       "\n",
       "    .dataframe thead th {\n",
       "        text-align: right;\n",
       "    }\n",
       "</style>\n",
       "<table border=\"1\" class=\"dataframe\">\n",
       "  <thead>\n",
       "    <tr style=\"text-align: right;\">\n",
       "      <th></th>\n",
       "      <th>Age</th>\n",
       "      <th>Na_to_K</th>\n",
       "    </tr>\n",
       "  </thead>\n",
       "  <tbody>\n",
       "    <tr>\n",
       "      <th>0</th>\n",
       "      <td>23</td>\n",
       "      <td>25.355</td>\n",
       "    </tr>\n",
       "    <tr>\n",
       "      <th>1</th>\n",
       "      <td>47</td>\n",
       "      <td>13.093</td>\n",
       "    </tr>\n",
       "    <tr>\n",
       "      <th>2</th>\n",
       "      <td>47</td>\n",
       "      <td>10.114</td>\n",
       "    </tr>\n",
       "    <tr>\n",
       "      <th>3</th>\n",
       "      <td>28</td>\n",
       "      <td>7.798</td>\n",
       "    </tr>\n",
       "    <tr>\n",
       "      <th>4</th>\n",
       "      <td>61</td>\n",
       "      <td>18.043</td>\n",
       "    </tr>\n",
       "    <tr>\n",
       "      <th>...</th>\n",
       "      <td>...</td>\n",
       "      <td>...</td>\n",
       "    </tr>\n",
       "    <tr>\n",
       "      <th>195</th>\n",
       "      <td>56</td>\n",
       "      <td>11.567</td>\n",
       "    </tr>\n",
       "    <tr>\n",
       "      <th>196</th>\n",
       "      <td>16</td>\n",
       "      <td>12.006</td>\n",
       "    </tr>\n",
       "    <tr>\n",
       "      <th>197</th>\n",
       "      <td>52</td>\n",
       "      <td>9.894</td>\n",
       "    </tr>\n",
       "    <tr>\n",
       "      <th>198</th>\n",
       "      <td>23</td>\n",
       "      <td>14.020</td>\n",
       "    </tr>\n",
       "    <tr>\n",
       "      <th>199</th>\n",
       "      <td>40</td>\n",
       "      <td>11.349</td>\n",
       "    </tr>\n",
       "  </tbody>\n",
       "</table>\n",
       "<p>200 rows × 2 columns</p>\n",
       "</div>"
      ],
      "text/plain": [
       "     Age  Na_to_K\n",
       "0     23   25.355\n",
       "1     47   13.093\n",
       "2     47   10.114\n",
       "3     28    7.798\n",
       "4     61   18.043\n",
       "..   ...      ...\n",
       "195   56   11.567\n",
       "196   16   12.006\n",
       "197   52    9.894\n",
       "198   23   14.020\n",
       "199   40   11.349\n",
       "\n",
       "[200 rows x 2 columns]"
      ]
     },
     "execution_count": 41,
     "metadata": {},
     "output_type": "execute_result"
    }
   ],
   "source": [
    "#variables Númericas\n",
    "#.iloc[Filas:,colum1,colum2, column3]\n",
    "b = data.iloc[:,[0, 4]]\n",
    "b"
   ]
  },
  {
   "cell_type": "markdown",
   "id": "3d64866f",
   "metadata": {
    "papermill": {
     "duration": 0.02855,
     "end_time": "2022-02-21T09:09:04.672928",
     "exception": false,
     "start_time": "2022-02-21T09:09:04.644378",
     "status": "completed"
    },
    "tags": []
   },
   "source": [
    "#### PRE-PROCESAMIENTO"
   ]
  },
  {
   "cell_type": "markdown",
   "id": "a70b517f",
   "metadata": {},
   "source": [
    "El siguiente código realiza la codificación de variables categóricas en un conjunto de datos. Aquí está la explicación paso a paso del código:"
   ]
  },
  {
   "cell_type": "code",
   "execution_count": 6,
   "id": "0dc7f1c8",
   "metadata": {},
   "outputs": [
    {
     "data": {
      "text/html": [
       "<div>\n",
       "<style scoped>\n",
       "    .dataframe tbody tr th:only-of-type {\n",
       "        vertical-align: middle;\n",
       "    }\n",
       "\n",
       "    .dataframe tbody tr th {\n",
       "        vertical-align: top;\n",
       "    }\n",
       "\n",
       "    .dataframe thead th {\n",
       "        text-align: right;\n",
       "    }\n",
       "</style>\n",
       "<table border=\"1\" class=\"dataframe\">\n",
       "  <thead>\n",
       "    <tr style=\"text-align: right;\">\n",
       "      <th></th>\n",
       "      <th>Sex</th>\n",
       "      <th>BP</th>\n",
       "      <th>Cholesterol</th>\n",
       "      <th>Drug</th>\n",
       "    </tr>\n",
       "  </thead>\n",
       "  <tbody>\n",
       "    <tr>\n",
       "      <th>0</th>\n",
       "      <td>0</td>\n",
       "      <td>0</td>\n",
       "      <td>0</td>\n",
       "      <td>4</td>\n",
       "    </tr>\n",
       "    <tr>\n",
       "      <th>1</th>\n",
       "      <td>1</td>\n",
       "      <td>1</td>\n",
       "      <td>0</td>\n",
       "      <td>2</td>\n",
       "    </tr>\n",
       "    <tr>\n",
       "      <th>2</th>\n",
       "      <td>1</td>\n",
       "      <td>1</td>\n",
       "      <td>0</td>\n",
       "      <td>2</td>\n",
       "    </tr>\n",
       "    <tr>\n",
       "      <th>3</th>\n",
       "      <td>0</td>\n",
       "      <td>2</td>\n",
       "      <td>0</td>\n",
       "      <td>3</td>\n",
       "    </tr>\n",
       "    <tr>\n",
       "      <th>4</th>\n",
       "      <td>0</td>\n",
       "      <td>1</td>\n",
       "      <td>0</td>\n",
       "      <td>4</td>\n",
       "    </tr>\n",
       "    <tr>\n",
       "      <th>...</th>\n",
       "      <td>...</td>\n",
       "      <td>...</td>\n",
       "      <td>...</td>\n",
       "      <td>...</td>\n",
       "    </tr>\n",
       "    <tr>\n",
       "      <th>195</th>\n",
       "      <td>0</td>\n",
       "      <td>1</td>\n",
       "      <td>0</td>\n",
       "      <td>2</td>\n",
       "    </tr>\n",
       "    <tr>\n",
       "      <th>196</th>\n",
       "      <td>1</td>\n",
       "      <td>1</td>\n",
       "      <td>0</td>\n",
       "      <td>2</td>\n",
       "    </tr>\n",
       "    <tr>\n",
       "      <th>197</th>\n",
       "      <td>1</td>\n",
       "      <td>2</td>\n",
       "      <td>0</td>\n",
       "      <td>3</td>\n",
       "    </tr>\n",
       "    <tr>\n",
       "      <th>198</th>\n",
       "      <td>1</td>\n",
       "      <td>2</td>\n",
       "      <td>1</td>\n",
       "      <td>3</td>\n",
       "    </tr>\n",
       "    <tr>\n",
       "      <th>199</th>\n",
       "      <td>0</td>\n",
       "      <td>1</td>\n",
       "      <td>1</td>\n",
       "      <td>3</td>\n",
       "    </tr>\n",
       "  </tbody>\n",
       "</table>\n",
       "<p>200 rows × 4 columns</p>\n",
       "</div>"
      ],
      "text/plain": [
       "     Sex  BP  Cholesterol  Drug\n",
       "0      0   0            0     4\n",
       "1      1   1            0     2\n",
       "2      1   1            0     2\n",
       "3      0   2            0     3\n",
       "4      0   1            0     4\n",
       "..   ...  ..          ...   ...\n",
       "195    0   1            0     2\n",
       "196    1   1            0     2\n",
       "197    1   2            0     3\n",
       "198    1   2            1     3\n",
       "199    0   1            1     3\n",
       "\n",
       "[200 rows x 4 columns]"
      ]
     },
     "execution_count": 6,
     "metadata": {},
     "output_type": "execute_result"
    }
   ],
   "source": [
    "#Convertirlos en valores numéricos.\n",
    "#Esto se puede hacer utilizando el codificador de etiquetas (Label Encoder).\n",
    "#Separamos el conjunto de datos en conjuntos de datos numéricos y no numéricos:\n",
    "\n",
    "import pandas as pd\n",
    "from sklearn.preprocessing import LabelEncoder\n",
    "\n",
    "data = pd.read_csv('drug200.csv') # Leer los datos de Medicamentos200\n",
    "\n",
    "# Convertir las columnas en valores numéricos (variables categóricas)\n",
    "label_encoder = LabelEncoder()\n",
    "numerical_data = a.copy()\n",
    "non_numerical_data = b.copy()\n",
    "\n",
    "for column in numerical_data.columns:\n",
    "    if numerical_data[column].dtype == 'object':\n",
    "        numerical_data[column] = label_encoder.fit_transform(numerical_data[column])\n",
    "\n",
    "numerical_data"
   ]
  },
  {
   "cell_type": "markdown",
   "id": "c9276ccb",
   "metadata": {},
   "source": [
    "* Se crea una instancia del objeto LabelEncoder(), el cual se utilizará para realizar la codificación de las variables categóricas.\n",
    "\n",
    "* Se crea una copia del DataFrame a y se asigna a la variable numerical_data. Esta copia se utilizará para almacenar los datos numéricos codificados.\n",
    "\n",
    "* Se crea una copia del DataFrame b y se asigna a la variable non_numerical_data. Esta copia se utilizará para almacenar los datos no numéricos originales.\n",
    "\n",
    "* El bucle for itera sobre todas las columnas del DataFrame numerical_data.\n",
    "\n",
    "* Dentro del bucle, se verifica si el tipo de datos de la columna actual es 'object', lo cual indica que es una variable categórica.\n",
    "\n",
    "En resumen, el código utiliza el objeto LabelEncoder para codificar las variables categóricas en un DataFrame. Los valores numéricos codificados reemplazan a los valores categóricos originales en el DataFrame resultante numerical_data."
   ]
  },
  {
   "cell_type": "code",
   "execution_count": 8,
   "id": "2454978b",
   "metadata": {},
   "outputs": [
    {
     "data": {
      "text/html": [
       "<div>\n",
       "<style scoped>\n",
       "    .dataframe tbody tr th:only-of-type {\n",
       "        vertical-align: middle;\n",
       "    }\n",
       "\n",
       "    .dataframe tbody tr th {\n",
       "        vertical-align: top;\n",
       "    }\n",
       "\n",
       "    .dataframe thead th {\n",
       "        text-align: right;\n",
       "    }\n",
       "</style>\n",
       "<table border=\"1\" class=\"dataframe\">\n",
       "  <thead>\n",
       "    <tr style=\"text-align: right;\">\n",
       "      <th></th>\n",
       "      <th>Sex</th>\n",
       "      <th>BP</th>\n",
       "      <th>Cholesterol</th>\n",
       "      <th>Drug</th>\n",
       "    </tr>\n",
       "  </thead>\n",
       "  <tbody>\n",
       "    <tr>\n",
       "      <th>0</th>\n",
       "      <td>0</td>\n",
       "      <td>0</td>\n",
       "      <td>0</td>\n",
       "      <td>4</td>\n",
       "    </tr>\n",
       "    <tr>\n",
       "      <th>1</th>\n",
       "      <td>1</td>\n",
       "      <td>1</td>\n",
       "      <td>0</td>\n",
       "      <td>2</td>\n",
       "    </tr>\n",
       "    <tr>\n",
       "      <th>2</th>\n",
       "      <td>1</td>\n",
       "      <td>1</td>\n",
       "      <td>0</td>\n",
       "      <td>2</td>\n",
       "    </tr>\n",
       "    <tr>\n",
       "      <th>3</th>\n",
       "      <td>0</td>\n",
       "      <td>2</td>\n",
       "      <td>0</td>\n",
       "      <td>3</td>\n",
       "    </tr>\n",
       "    <tr>\n",
       "      <th>4</th>\n",
       "      <td>0</td>\n",
       "      <td>1</td>\n",
       "      <td>0</td>\n",
       "      <td>4</td>\n",
       "    </tr>\n",
       "    <tr>\n",
       "      <th>...</th>\n",
       "      <td>...</td>\n",
       "      <td>...</td>\n",
       "      <td>...</td>\n",
       "      <td>...</td>\n",
       "    </tr>\n",
       "    <tr>\n",
       "      <th>195</th>\n",
       "      <td>0</td>\n",
       "      <td>1</td>\n",
       "      <td>0</td>\n",
       "      <td>2</td>\n",
       "    </tr>\n",
       "    <tr>\n",
       "      <th>196</th>\n",
       "      <td>1</td>\n",
       "      <td>1</td>\n",
       "      <td>0</td>\n",
       "      <td>2</td>\n",
       "    </tr>\n",
       "    <tr>\n",
       "      <th>197</th>\n",
       "      <td>1</td>\n",
       "      <td>2</td>\n",
       "      <td>0</td>\n",
       "      <td>3</td>\n",
       "    </tr>\n",
       "    <tr>\n",
       "      <th>198</th>\n",
       "      <td>1</td>\n",
       "      <td>2</td>\n",
       "      <td>1</td>\n",
       "      <td>3</td>\n",
       "    </tr>\n",
       "    <tr>\n",
       "      <th>199</th>\n",
       "      <td>0</td>\n",
       "      <td>1</td>\n",
       "      <td>1</td>\n",
       "      <td>3</td>\n",
       "    </tr>\n",
       "  </tbody>\n",
       "</table>\n",
       "<p>200 rows × 4 columns</p>\n",
       "</div>"
      ],
      "text/plain": [
       "     Sex  BP  Cholesterol  Drug\n",
       "0      0   0            0     4\n",
       "1      1   1            0     2\n",
       "2      1   1            0     2\n",
       "3      0   2            0     3\n",
       "4      0   1            0     4\n",
       "..   ...  ..          ...   ...\n",
       "195    0   1            0     2\n",
       "196    1   1            0     2\n",
       "197    1   2            0     3\n",
       "198    1   2            1     3\n",
       "199    0   1            1     3\n",
       "\n",
       "[200 rows x 4 columns]"
      ]
     },
     "execution_count": 8,
     "metadata": {},
     "output_type": "execute_result"
    }
   ],
   "source": [
    "a_enc = a.copy()\n",
    "for col in a.columns:\n",
    "    lb = LabelEncoder()\n",
    "    a_enc[col] = lb.fit_transform(a[col].values)\n",
    "a_enc"
   ]
  },
  {
   "cell_type": "code",
   "execution_count": 9,
   "id": "b964dfaf",
   "metadata": {
    "execution": {
     "iopub.execute_input": "2022-02-21T09:09:05.026050Z",
     "iopub.status.busy": "2022-02-21T09:09:05.025355Z",
     "iopub.status.idle": "2022-02-21T09:09:05.029452Z",
     "shell.execute_reply": "2022-02-21T09:09:05.029852Z",
     "shell.execute_reply.started": "2022-02-21T08:49:23.263536Z"
    },
    "papermill": {
     "duration": 0.038186,
     "end_time": "2022-02-21T09:09:05.029992",
     "exception": false,
     "start_time": "2022-02-21T09:09:04.991806",
     "status": "completed"
    },
    "tags": []
   },
   "outputs": [],
   "source": [
    "data1 = pd.concat([b, a_enc], axis = 1)"
   ]
  },
  {
   "cell_type": "markdown",
   "id": "7deec581",
   "metadata": {
    "papermill": {
     "duration": 0.029491,
     "end_time": "2022-02-21T09:09:05.090277",
     "exception": false,
     "start_time": "2022-02-21T09:09:05.060786",
     "status": "completed"
    },
    "tags": []
   },
   "source": [
    "## Evaluando los datos"
   ]
  },
  {
   "cell_type": "markdown",
   "id": "3d3dc317",
   "metadata": {
    "papermill": {
     "duration": 0.029783,
     "end_time": "2022-02-21T09:09:05.150191",
     "exception": false,
     "start_time": "2022-02-21T09:09:05.120408",
     "status": "completed"
    },
    "tags": []
   },
   "source": [
    "### Comprobando el recuento, mínimo, máximo y promedio para los datos."
   ]
  },
  {
   "cell_type": "code",
   "execution_count": 10,
   "id": "70aade42",
   "metadata": {
    "execution": {
     "iopub.execute_input": "2022-02-21T09:09:05.214234Z",
     "iopub.status.busy": "2022-02-21T09:09:05.213737Z",
     "iopub.status.idle": "2022-02-21T09:09:05.240830Z",
     "shell.execute_reply": "2022-02-21T09:09:05.241238Z",
     "shell.execute_reply.started": "2022-02-21T08:49:23.279501Z"
    },
    "papermill": {
     "duration": 0.060661,
     "end_time": "2022-02-21T09:09:05.241379",
     "exception": false,
     "start_time": "2022-02-21T09:09:05.180718",
     "status": "completed"
    },
    "tags": []
   },
   "outputs": [
    {
     "data": {
      "text/html": [
       "<div>\n",
       "<style scoped>\n",
       "    .dataframe tbody tr th:only-of-type {\n",
       "        vertical-align: middle;\n",
       "    }\n",
       "\n",
       "    .dataframe tbody tr th {\n",
       "        vertical-align: top;\n",
       "    }\n",
       "\n",
       "    .dataframe thead th {\n",
       "        text-align: right;\n",
       "    }\n",
       "</style>\n",
       "<table border=\"1\" class=\"dataframe\">\n",
       "  <thead>\n",
       "    <tr style=\"text-align: right;\">\n",
       "      <th></th>\n",
       "      <th>Age</th>\n",
       "      <th>Na_to_K</th>\n",
       "      <th>Sex</th>\n",
       "      <th>BP</th>\n",
       "      <th>Cholesterol</th>\n",
       "      <th>Drug</th>\n",
       "    </tr>\n",
       "  </thead>\n",
       "  <tbody>\n",
       "    <tr>\n",
       "      <th>count</th>\n",
       "      <td>200.000000</td>\n",
       "      <td>200.000000</td>\n",
       "      <td>200.000000</td>\n",
       "      <td>200.000000</td>\n",
       "      <td>200.000000</td>\n",
       "      <td>200.000000</td>\n",
       "    </tr>\n",
       "    <tr>\n",
       "      <th>mean</th>\n",
       "      <td>44.315000</td>\n",
       "      <td>16.084485</td>\n",
       "      <td>0.520000</td>\n",
       "      <td>0.910000</td>\n",
       "      <td>0.485000</td>\n",
       "      <td>2.870000</td>\n",
       "    </tr>\n",
       "    <tr>\n",
       "      <th>std</th>\n",
       "      <td>16.544315</td>\n",
       "      <td>7.223956</td>\n",
       "      <td>0.500854</td>\n",
       "      <td>0.821752</td>\n",
       "      <td>0.501029</td>\n",
       "      <td>1.372047</td>\n",
       "    </tr>\n",
       "    <tr>\n",
       "      <th>min</th>\n",
       "      <td>15.000000</td>\n",
       "      <td>6.269000</td>\n",
       "      <td>0.000000</td>\n",
       "      <td>0.000000</td>\n",
       "      <td>0.000000</td>\n",
       "      <td>0.000000</td>\n",
       "    </tr>\n",
       "    <tr>\n",
       "      <th>25%</th>\n",
       "      <td>31.000000</td>\n",
       "      <td>10.445500</td>\n",
       "      <td>0.000000</td>\n",
       "      <td>0.000000</td>\n",
       "      <td>0.000000</td>\n",
       "      <td>2.000000</td>\n",
       "    </tr>\n",
       "    <tr>\n",
       "      <th>50%</th>\n",
       "      <td>45.000000</td>\n",
       "      <td>13.936500</td>\n",
       "      <td>1.000000</td>\n",
       "      <td>1.000000</td>\n",
       "      <td>0.000000</td>\n",
       "      <td>3.000000</td>\n",
       "    </tr>\n",
       "    <tr>\n",
       "      <th>75%</th>\n",
       "      <td>58.000000</td>\n",
       "      <td>19.380000</td>\n",
       "      <td>1.000000</td>\n",
       "      <td>2.000000</td>\n",
       "      <td>1.000000</td>\n",
       "      <td>4.000000</td>\n",
       "    </tr>\n",
       "    <tr>\n",
       "      <th>max</th>\n",
       "      <td>74.000000</td>\n",
       "      <td>38.247000</td>\n",
       "      <td>1.000000</td>\n",
       "      <td>2.000000</td>\n",
       "      <td>1.000000</td>\n",
       "      <td>4.000000</td>\n",
       "    </tr>\n",
       "  </tbody>\n",
       "</table>\n",
       "</div>"
      ],
      "text/plain": [
       "              Age     Na_to_K         Sex          BP  Cholesterol        Drug\n",
       "count  200.000000  200.000000  200.000000  200.000000   200.000000  200.000000\n",
       "mean    44.315000   16.084485    0.520000    0.910000     0.485000    2.870000\n",
       "std     16.544315    7.223956    0.500854    0.821752     0.501029    1.372047\n",
       "min     15.000000    6.269000    0.000000    0.000000     0.000000    0.000000\n",
       "25%     31.000000   10.445500    0.000000    0.000000     0.000000    2.000000\n",
       "50%     45.000000   13.936500    1.000000    1.000000     0.000000    3.000000\n",
       "75%     58.000000   19.380000    1.000000    2.000000     1.000000    4.000000\n",
       "max     74.000000   38.247000    1.000000    2.000000     1.000000    4.000000"
      ]
     },
     "execution_count": 10,
     "metadata": {},
     "output_type": "execute_result"
    }
   ],
   "source": [
    "data1.describe()"
   ]
  },
  {
   "cell_type": "markdown",
   "id": "fb446bbe",
   "metadata": {
    "papermill": {
     "duration": 0.029899,
     "end_time": "2022-02-21T09:09:05.301439",
     "exception": false,
     "start_time": "2022-02-21T09:09:05.271540",
     "status": "completed"
    },
    "tags": []
   },
   "source": [
    "###  Comprobando valores nulos"
   ]
  },
  {
   "cell_type": "code",
   "execution_count": 11,
   "id": "72f40c3b",
   "metadata": {
    "execution": {
     "iopub.execute_input": "2022-02-21T09:09:05.368018Z",
     "iopub.status.busy": "2022-02-21T09:09:05.367360Z",
     "iopub.status.idle": "2022-02-21T09:09:05.379801Z",
     "shell.execute_reply": "2022-02-21T09:09:05.380229Z",
     "shell.execute_reply.started": "2022-02-21T08:49:23.317276Z"
    },
    "papermill": {
     "duration": 0.048418,
     "end_time": "2022-02-21T09:09:05.380388",
     "exception": false,
     "start_time": "2022-02-21T09:09:05.331970",
     "status": "completed"
    },
    "tags": []
   },
   "outputs": [
    {
     "name": "stdout",
     "output_type": "stream",
     "text": [
      "<class 'pandas.core.frame.DataFrame'>\n",
      "RangeIndex: 200 entries, 0 to 199\n",
      "Data columns (total 6 columns):\n",
      " #   Column       Non-Null Count  Dtype  \n",
      "---  ------       --------------  -----  \n",
      " 0   Age          200 non-null    int64  \n",
      " 1   Na_to_K      200 non-null    float64\n",
      " 2   Sex          200 non-null    int32  \n",
      " 3   BP           200 non-null    int32  \n",
      " 4   Cholesterol  200 non-null    int32  \n",
      " 5   Drug         200 non-null    int32  \n",
      "dtypes: float64(1), int32(4), int64(1)\n",
      "memory usage: 6.4 KB\n"
     ]
    }
   ],
   "source": [
    "data1.info()"
   ]
  },
  {
   "cell_type": "code",
   "execution_count": 12,
   "id": "bb2ea760",
   "metadata": {
    "execution": {
     "iopub.execute_input": "2022-02-21T09:09:05.445993Z",
     "iopub.status.busy": "2022-02-21T09:09:05.445475Z",
     "iopub.status.idle": "2022-02-21T09:09:05.453764Z",
     "shell.execute_reply": "2022-02-21T09:09:05.454233Z",
     "shell.execute_reply.started": "2022-02-21T08:49:23.333998Z"
    },
    "papermill": {
     "duration": 0.042388,
     "end_time": "2022-02-21T09:09:05.454367",
     "exception": false,
     "start_time": "2022-02-21T09:09:05.411979",
     "status": "completed"
    },
    "tags": []
   },
   "outputs": [
    {
     "data": {
      "text/plain": [
       "0"
      ]
     },
     "execution_count": 12,
     "metadata": {},
     "output_type": "execute_result"
    }
   ],
   "source": [
    "data1.duplicated().sum()"
   ]
  },
  {
   "cell_type": "markdown",
   "id": "ffd17689",
   "metadata": {
    "papermill": {
     "duration": 0.030983,
     "end_time": "2022-02-21T09:09:05.516694",
     "exception": false,
     "start_time": "2022-02-21T09:09:05.485711",
     "status": "completed"
    },
    "tags": []
   },
   "source": [
    "### Visualizando las clases objetivo"
   ]
  },
  {
   "cell_type": "code",
   "execution_count": 13,
   "id": "42a6ab0f",
   "metadata": {
    "execution": {
     "iopub.execute_input": "2022-02-21T09:09:05.586485Z",
     "iopub.status.busy": "2022-02-21T09:09:05.583322Z",
     "iopub.status.idle": "2022-02-21T09:09:05.589384Z",
     "shell.execute_reply": "2022-02-21T09:09:05.589853Z",
     "shell.execute_reply.started": "2022-02-21T08:50:40.749739Z"
    },
    "papermill": {
     "duration": 0.040737,
     "end_time": "2022-02-21T09:09:05.590003",
     "exception": false,
     "start_time": "2022-02-21T09:09:05.549266",
     "status": "completed"
    },
    "tags": []
   },
   "outputs": [
    {
     "data": {
      "text/plain": [
       "array([4, 2, 3, 0, 1])"
      ]
     },
     "execution_count": 13,
     "metadata": {},
     "output_type": "execute_result"
    }
   ],
   "source": [
    "data1['Drug'].unique()"
   ]
  },
  {
   "cell_type": "code",
   "execution_count": 14,
   "id": "2931ba1b",
   "metadata": {
    "execution": {
     "iopub.execute_input": "2022-02-21T09:09:05.659669Z",
     "iopub.status.busy": "2022-02-21T09:09:05.657181Z",
     "iopub.status.idle": "2022-02-21T09:09:05.815837Z",
     "shell.execute_reply": "2022-02-21T09:09:05.816601Z",
     "shell.execute_reply.started": "2022-02-21T08:49:23.350365Z"
    },
    "papermill": {
     "duration": 0.194416,
     "end_time": "2022-02-21T09:09:05.816802",
     "exception": false,
     "start_time": "2022-02-21T09:09:05.622386",
     "status": "completed"
    },
    "tags": []
   },
   "outputs": [
    {
     "data": {
      "text/plain": [
       "<Axes: xlabel='Drug', ylabel='count'>"
      ]
     },
     "execution_count": 14,
     "metadata": {},
     "output_type": "execute_result"
    },
    {
     "data": {
      "image/png": "[encoded data removed]",
      "text/plain": [
       "<Figure size 640x480 with 1 Axes>"
      ]
     },
     "metadata": {},
     "output_type": "display_data"
    }
   ],
   "source": [
    "sns.countplot(x = data1['Drug'], color= 'blue')"
   ]
  },
  {
   "cell_type": "markdown",
   "id": "ca6b3c38",
   "metadata": {
    "papermill": {
     "duration": 0.032483,
     "end_time": "2022-02-21T09:09:05.885378",
     "exception": false,
     "start_time": "2022-02-21T09:09:05.852895",
     "status": "completed"
    },
    "tags": []
   },
   "source": [
    "## Dividiendo en características y objetivo\n",
    "\n",
    "* Las características son las variables independientes y sus valores determinan la clase de la característica.\n",
    "\n",
    "* El objetivo es la variable dependiente y se espera que predigamos correctamente la clase objetivo."
   ]
  },
  {
   "cell_type": "code",
   "execution_count": 42,
   "id": "3cfa88bd",
   "metadata": {
    "execution": {
     "iopub.execute_input": "2022-02-21T09:09:05.952357Z",
     "iopub.status.busy": "2022-02-21T09:09:05.951822Z",
     "iopub.status.idle": "2022-02-21T09:09:05.956037Z",
     "shell.execute_reply": "2022-02-21T09:09:05.956449Z",
     "shell.execute_reply.started": "2022-02-21T08:49:23.551126Z"
    },
    "papermill": {
     "duration": 0.038777,
     "end_time": "2022-02-21T09:09:05.956594",
     "exception": false,
     "start_time": "2022-02-21T09:09:05.917817",
     "status": "completed"
    },
    "tags": []
   },
   "outputs": [],
   "source": [
    "X = data1.drop('Drug', axis = 1)\n",
    "y = data1['Drug']"
   ]
  },
  {
   "cell_type": "markdown",
   "id": "125130d2",
   "metadata": {
    "papermill": {
     "duration": 0.03224,
     "end_time": "2022-02-21T09:09:06.021351",
     "exception": false,
     "start_time": "2022-02-21T09:09:05.989111",
     "status": "completed"
    },
    "tags": []
   },
   "source": [
    "## Function for Model Evaluation"
   ]
  },
  {
   "cell_type": "markdown",
   "id": "8aa7bb93",
   "metadata": {},
   "source": [
    "Esta función muestra una representación visual de la matriz de confusión utilizando un mapa de calor, donde se resalta la cantidad de predicciones correctas e incorrectas para cada clase."
   ]
  },
  {
   "cell_type": "code",
   "execution_count": 43,
   "id": "697197ae",
   "metadata": {
    "execution": {
     "iopub.execute_input": "2022-02-21T09:09:06.089324Z",
     "iopub.status.busy": "2022-02-21T09:09:06.088850Z",
     "iopub.status.idle": "2022-02-21T09:09:06.092916Z",
     "shell.execute_reply": "2022-02-21T09:09:06.093366Z",
     "shell.execute_reply.started": "2022-02-21T08:49:23.566191Z"
    },
    "papermill": {
     "duration": 0.039342,
     "end_time": "2022-02-21T09:09:06.093529",
     "exception": false,
     "start_time": "2022-02-21T09:09:06.054187",
     "status": "completed"
    },
    "tags": []
   },
   "outputs": [],
   "source": [
    "def model_evaluation(classifier):\n",
    "    cm = confusion_matrix(y_test, classifier.predict(X_test))\n",
    "    counts = [value for value in cm.flatten()]\n",
    "    labels = [f'{v1}' for v1 in counts]\n",
    "    labels = np.asarray(labels).reshape(5,5)\n",
    "    sns.heatmap(cm, annot = labels, cmap = 'Greens', fmt = '')"
   ]
  },
  {
   "cell_type": "markdown",
   "id": "df1e5b03",
   "metadata": {
    "papermill": {
     "duration": 0.03256,
     "end_time": "2022-02-21T09:09:06.158583",
     "exception": false,
     "start_time": "2022-02-21T09:09:06.126023",
     "status": "completed"
    },
    "tags": []
   },
   "source": [
    "## Construcción de modelos para Árboles de Decisión\n",
    "\n",
    "clf = Clasificador de Árbol de Decisión"
   ]
  },
  {
   "cell_type": "code",
   "execution_count": 44,
   "id": "e98cfc5d",
   "metadata": {
    "execution": {
     "iopub.execute_input": "2022-02-21T09:09:06.227312Z",
     "iopub.status.busy": "2022-02-21T09:09:06.226787Z",
     "iopub.status.idle": "2022-02-21T09:09:06.229488Z",
     "shell.execute_reply": "2022-02-21T09:09:06.229935Z",
     "shell.execute_reply.started": "2022-02-21T08:49:23.577726Z"
    },
    "papermill": {
     "duration": 0.03736,
     "end_time": "2022-02-21T09:09:06.230076",
     "exception": false,
     "start_time": "2022-02-21T09:09:06.192716",
     "status": "completed"
    },
    "tags": []
   },
   "outputs": [],
   "source": [
    "clf = DecisionTreeClassifier()"
   ]
  },
  {
   "cell_type": "markdown",
   "id": "d17cfbad",
   "metadata": {
    "papermill": {
     "duration": 0.032357,
     "end_time": "2022-02-21T09:09:06.295198",
     "exception": false,
     "start_time": "2022-02-21T09:09:06.262841",
     "status": "completed"
    },
    "tags": []
   },
   "source": [
    "## Utilizando validación cruzada para encontrar los parámetros de mayor precisión."
   ]
  },
  {
   "cell_type": "markdown",
   "id": "395dad6e",
   "metadata": {},
   "source": [
    "Estos parámetros y sus respectivos valores se utilizan para buscar la combinación óptima que brinde el mejor rendimiento al entrenar un modelo de Árbol de Decisión."
   ]
  },
  {
   "cell_type": "code",
   "execution_count": 30,
   "id": "a95e0ae9",
   "metadata": {
    "execution": {
     "iopub.execute_input": "2022-02-21T09:09:06.367442Z",
     "iopub.status.busy": "2022-02-21T09:09:06.366941Z",
     "iopub.status.idle": "2022-02-21T09:09:06.369169Z",
     "shell.execute_reply": "2022-02-21T09:09:06.369540Z",
     "shell.execute_reply.started": "2022-02-21T08:49:23.596301Z"
    },
    "papermill": {
     "duration": 0.041426,
     "end_time": "2022-02-21T09:09:06.369700",
     "exception": false,
     "start_time": "2022-02-21T09:09:06.328274",
     "status": "completed"
    },
    "tags": []
   },
   "outputs": [],
   "source": [
    "param_dist = {'max_depth': [None, 2, 3, 4, 5, 6],\n",
    "             'criterion': ['gini', 'entropy'],\n",
    "             'min_samples_split': [5, 10, 12],\n",
    "             'max_leaf_nodes': [10, 15, 20, None]}"
   ]
  },
  {
   "cell_type": "markdown",
   "id": "9337dccd",
   "metadata": {},
   "source": [
    "El código realiza una búsqueda aleatoria de hiperparámetros para encontrar la mejor combinación de parámetros para el modelo de Árbol de Decisión. Luego, ajusta el modelo utilizando los datos proporcionados y los parámetros óptimos encontrados."
   ]
  },
  {
   "cell_type": "code",
   "execution_count": 45,
   "id": "b9d7f054",
   "metadata": {
    "execution": {
     "iopub.execute_input": "2022-02-21T09:09:06.440321Z",
     "iopub.status.busy": "2022-02-21T09:09:06.439793Z",
     "iopub.status.idle": "2022-02-21T09:09:06.632116Z",
     "shell.execute_reply": "2022-02-21T09:09:06.631392Z",
     "shell.execute_reply.started": "2022-02-21T08:49:23.608224Z"
    },
    "papermill": {
     "duration": 0.229929,
     "end_time": "2022-02-21T09:09:06.632263",
     "exception": false,
     "start_time": "2022-02-21T09:09:06.402334",
     "status": "completed"
    },
    "tags": []
   },
   "outputs": [
    {
     "data": {
      "text/html": [
       "<style>#sk-container-id-5 {color: black;background-color: white;}#sk-container-id-5 pre{padding: 0;}#sk-container-id-5 div.sk-toggleable {background-color: white;}#sk-container-id-5 label.sk-toggleable__label {cursor: pointer;display: block;width: 100%;margin-bottom: 0;padding: 0.3em;box-sizing: border-box;text-align: center;}#sk-container-id-5 label.sk-toggleable__label-arrow:before {content: \"▸\";float: left;margin-right: 0.25em;color: #696969;}#sk-container-id-5 label.sk-toggleable__label-arrow:hover:before {color: black;}#sk-container-id-5 div.sk-estimator:hover label.sk-toggleable__label-arrow:before {color: black;}#sk-container-id-5 div.sk-toggleable__content {max-height: 0;max-width: 0;overflow: hidden;text-align: left;background-color: #f0f8ff;}#sk-container-id-5 div.sk-toggleable__content pre {margin: 0.2em;color: black;border-radius: 0.25em;background-color: #f0f8ff;}#sk-container-id-5 input.sk-toggleable__control:checked~div.sk-toggleable__content {max-height: 200px;max-width: 100%;overflow: auto;}#sk-container-id-5 input.sk-toggleable__control:checked~label.sk-toggleable__label-arrow:before {content: \"▾\";}#sk-container-id-5 div.sk-estimator input.sk-toggleable__control:checked~label.sk-toggleable__label {background-color: #d4ebff;}#sk-container-id-5 div.sk-label input.sk-toggleable__control:checked~label.sk-toggleable__label {background-color: #d4ebff;}#sk-container-id-5 input.sk-hidden--visually {border: 0;clip: rect(1px 1px 1px 1px);clip: rect(1px, 1px, 1px, 1px);height: 1px;margin: -1px;overflow: hidden;padding: 0;position: absolute;width: 1px;}#sk-container-id-5 div.sk-estimator {font-family: monospace;background-color: #f0f8ff;border: 1px dotted black;border-radius: 0.25em;box-sizing: border-box;margin-bottom: 0.5em;}#sk-container-id-5 div.sk-estimator:hover {background-color: #d4ebff;}#sk-container-id-5 div.sk-parallel-item::after {content: \"\";width: 100%;border-bottom: 1px solid gray;flex-grow: 1;}#sk-container-id-5 div.sk-label:hover label.sk-toggleable__label {background-color: #d4ebff;}#sk-container-id-5 div.sk-serial::before {content: \"\";position: absolute;border-left: 1px solid gray;box-sizing: border-box;top: 0;bottom: 0;left: 50%;z-index: 0;}#sk-container-id-5 div.sk-serial {display: flex;flex-direction: column;align-items: center;background-color: white;padding-right: 0.2em;padding-left: 0.2em;position: relative;}#sk-container-id-5 div.sk-item {position: relative;z-index: 1;}#sk-container-id-5 div.sk-parallel {display: flex;align-items: stretch;justify-content: center;background-color: white;position: relative;}#sk-container-id-5 div.sk-item::before, #sk-container-id-5 div.sk-parallel-item::before {content: \"\";position: absolute;border-left: 1px solid gray;box-sizing: border-box;top: 0;bottom: 0;left: 50%;z-index: -1;}#sk-container-id-5 div.sk-parallel-item {display: flex;flex-direction: column;z-index: 1;position: relative;background-color: white;}#sk-container-id-5 div.sk-parallel-item:first-child::after {align-self: flex-end;width: 50%;}#sk-container-id-5 div.sk-parallel-item:last-child::after {align-self: flex-start;width: 50%;}#sk-container-id-5 div.sk-parallel-item:only-child::after {width: 0;}#sk-container-id-5 div.sk-dashed-wrapped {border: 1px dashed gray;margin: 0 0.4em 0.5em 0.4em;box-sizing: border-box;padding-bottom: 0.4em;background-color: white;}#sk-container-id-5 div.sk-label label {font-family: monospace;font-weight: bold;display: inline-block;line-height: 1.2em;}#sk-container-id-5 div.sk-label-container {text-align: center;}#sk-container-id-5 div.sk-container {/* jupyter's `normalize.less` sets `[hidden] { display: none; }` but bootstrap.min.css set `[hidden] { display: none !important; }` so we also need the `!important` here to be able to override the default hidden behavior on the sphinx rendered scikit-learn.org. See: https://github.com/scikit-learn/scikit-learn/issues/21755 */display: inline-block !important;position: relative;}#sk-container-id-5 div.sk-text-repr-fallback {display: none;}</style><div id=\"sk-container-id-5\" class=\"sk-top-container\"><div class=\"sk-text-repr-fallback\"><pre>RandomizedSearchCV(cv=5, estimator=DecisionTreeClassifier(),\n",
       "                   param_distributions={&#x27;criterion&#x27;: [&#x27;gini&#x27;, &#x27;entropy&#x27;],\n",
       "                                        &#x27;max_depth&#x27;: [None, 2, 3, 4, 5, 6],\n",
       "                                        &#x27;max_leaf_nodes&#x27;: [10, 15, 20, None],\n",
       "                                        &#x27;min_samples_split&#x27;: [5, 10, 12]})</pre><b>In a Jupyter environment, please rerun this cell to show the HTML representation or trust the notebook. <br />On GitHub, the HTML representation is unable to render, please try loading this page with nbviewer.org.</b></div><div class=\"sk-container\" hidden><div class=\"sk-item sk-dashed-wrapped\"><div class=\"sk-label-container\"><div class=\"sk-label sk-toggleable\"><input class=\"sk-toggleable__control sk-hidden--visually\" id=\"sk-estimator-id-9\" type=\"checkbox\" ><label for=\"sk-estimator-id-9\" class=\"sk-toggleable__label sk-toggleable__label-arrow\">RandomizedSearchCV</label><div class=\"sk-toggleable__content\"><pre>RandomizedSearchCV(cv=5, estimator=DecisionTreeClassifier(),\n",
       "                   param_distributions={&#x27;criterion&#x27;: [&#x27;gini&#x27;, &#x27;entropy&#x27;],\n",
       "                                        &#x27;max_depth&#x27;: [None, 2, 3, 4, 5, 6],\n",
       "                                        &#x27;max_leaf_nodes&#x27;: [10, 15, 20, None],\n",
       "                                        &#x27;min_samples_split&#x27;: [5, 10, 12]})</pre></div></div></div><div class=\"sk-parallel\"><div class=\"sk-parallel-item\"><div class=\"sk-item\"><div class=\"sk-label-container\"><div class=\"sk-label sk-toggleable\"><input class=\"sk-toggleable__control sk-hidden--visually\" id=\"sk-estimator-id-10\" type=\"checkbox\" ><label for=\"sk-estimator-id-10\" class=\"sk-toggleable__label sk-toggleable__label-arrow\">estimator: DecisionTreeClassifier</label><div class=\"sk-toggleable__content\"><pre>DecisionTreeClassifier()</pre></div></div></div><div class=\"sk-serial\"><div class=\"sk-item\"><div class=\"sk-estimator sk-toggleable\"><input class=\"sk-toggleable__control sk-hidden--visually\" id=\"sk-estimator-id-11\" type=\"checkbox\" ><label for=\"sk-estimator-id-11\" class=\"sk-toggleable__label sk-toggleable__label-arrow\">DecisionTreeClassifier</label><div class=\"sk-toggleable__content\"><pre>DecisionTreeClassifier()</pre></div></div></div></div></div></div></div></div></div></div>"
      ],
      "text/plain": [
       "RandomizedSearchCV(cv=5, estimator=DecisionTreeClassifier(),\n",
       "                   param_distributions={'criterion': ['gini', 'entropy'],\n",
       "                                        'max_depth': [None, 2, 3, 4, 5, 6],\n",
       "                                        'max_leaf_nodes': [10, 15, 20, None],\n",
       "                                        'min_samples_split': [5, 10, 12]})"
      ]
     },
     "execution_count": 45,
     "metadata": {},
     "output_type": "execute_result"
    }
   ],
   "source": [
    "rcv = RandomizedSearchCV(clf, param_distributions = param_dist, n_iter = 10, cv = 5)\n",
    "rcv.fit(X, y)"
   ]
  },
  {
   "cell_type": "markdown",
   "id": "67b6540c",
   "metadata": {},
   "source": [
    "El atributo best_score_ en el contexto de aprendizaje automático se refiere al mejor puntaje obtenido durante el proceso de validación cruzada."
   ]
  },
  {
   "cell_type": "code",
   "execution_count": 20,
   "id": "51047293",
   "metadata": {
    "execution": {
     "iopub.execute_input": "2022-02-21T09:09:06.737395Z",
     "iopub.status.busy": "2022-02-21T09:09:06.736760Z",
     "iopub.status.idle": "2022-02-21T09:09:06.741216Z",
     "shell.execute_reply": "2022-02-21T09:09:06.741822Z",
     "shell.execute_reply.started": "2022-02-21T08:49:23.858111Z"
    },
    "papermill": {
     "duration": 0.058736,
     "end_time": "2022-02-21T09:09:06.742048",
     "exception": false,
     "start_time": "2022-02-21T09:09:06.683312",
     "status": "completed"
    },
    "tags": []
   },
   "outputs": [
    {
     "data": {
      "text/plain": [
       "0.985"
      ]
     },
     "execution_count": 20,
     "metadata": {},
     "output_type": "execute_result"
    }
   ],
   "source": [
    "rcv.best_score_"
   ]
  },
  {
   "cell_type": "markdown",
   "id": "9d92bbe9",
   "metadata": {},
   "source": [
    "El atributo best_estimator_ en el contexto de aprendizaje automático se refiere al mejor estimador o modelo obtenido durante el proceso de validación cruzada. La validación cruzada es una técnica utilizada para evaluar el rendimiento de un modelo de aprendizaje automático en un conjunto de datos, y consiste en dividir el conjunto de datos en partes más pequeñas llamadas \"folds\" o pliegues."
   ]
  },
  {
   "cell_type": "code",
   "execution_count": 32,
   "id": "0a95ff20",
   "metadata": {
    "execution": {
     "iopub.execute_input": "2022-02-21T09:09:06.848892Z",
     "iopub.status.busy": "2022-02-21T09:09:06.848025Z",
     "iopub.status.idle": "2022-02-21T09:09:06.852416Z",
     "shell.execute_reply": "2022-02-21T09:09:06.853070Z",
     "shell.execute_reply.started": "2022-02-21T08:49:23.867526Z"
    },
    "papermill": {
     "duration": 0.059177,
     "end_time": "2022-02-21T09:09:06.853227",
     "exception": false,
     "start_time": "2022-02-21T09:09:06.794050",
     "status": "completed"
    },
    "scrolled": true,
    "tags": []
   },
   "outputs": [
    {
     "data": {
      "text/html": [
       "<style>#sk-container-id-4 {color: black;background-color: white;}#sk-container-id-4 pre{padding: 0;}#sk-container-id-4 div.sk-toggleable {background-color: white;}#sk-container-id-4 label.sk-toggleable__label {cursor: pointer;display: block;width: 100%;margin-bottom: 0;padding: 0.3em;box-sizing: border-box;text-align: center;}#sk-container-id-4 label.sk-toggleable__label-arrow:before {content: \"▸\";float: left;margin-right: 0.25em;color: #696969;}#sk-container-id-4 label.sk-toggleable__label-arrow:hover:before {color: black;}#sk-container-id-4 div.sk-estimator:hover label.sk-toggleable__label-arrow:before {color: black;}#sk-container-id-4 div.sk-toggleable__content {max-height: 0;max-width: 0;overflow: hidden;text-align: left;background-color: #f0f8ff;}#sk-container-id-4 div.sk-toggleable__content pre {margin: 0.2em;color: black;border-radius: 0.25em;background-color: #f0f8ff;}#sk-container-id-4 input.sk-toggleable__control:checked~div.sk-toggleable__content {max-height: 200px;max-width: 100%;overflow: auto;}#sk-container-id-4 input.sk-toggleable__control:checked~label.sk-toggleable__label-arrow:before {content: \"▾\";}#sk-container-id-4 div.sk-estimator input.sk-toggleable__control:checked~label.sk-toggleable__label {background-color: #d4ebff;}#sk-container-id-4 div.sk-label input.sk-toggleable__control:checked~label.sk-toggleable__label {background-color: #d4ebff;}#sk-container-id-4 input.sk-hidden--visually {border: 0;clip: rect(1px 1px 1px 1px);clip: rect(1px, 1px, 1px, 1px);height: 1px;margin: -1px;overflow: hidden;padding: 0;position: absolute;width: 1px;}#sk-container-id-4 div.sk-estimator {font-family: monospace;background-color: #f0f8ff;border: 1px dotted black;border-radius: 0.25em;box-sizing: border-box;margin-bottom: 0.5em;}#sk-container-id-4 div.sk-estimator:hover {background-color: #d4ebff;}#sk-container-id-4 div.sk-parallel-item::after {content: \"\";width: 100%;border-bottom: 1px solid gray;flex-grow: 1;}#sk-container-id-4 div.sk-label:hover label.sk-toggleable__label {background-color: #d4ebff;}#sk-container-id-4 div.sk-serial::before {content: \"\";position: absolute;border-left: 1px solid gray;box-sizing: border-box;top: 0;bottom: 0;left: 50%;z-index: 0;}#sk-container-id-4 div.sk-serial {display: flex;flex-direction: column;align-items: center;background-color: white;padding-right: 0.2em;padding-left: 0.2em;position: relative;}#sk-container-id-4 div.sk-item {position: relative;z-index: 1;}#sk-container-id-4 div.sk-parallel {display: flex;align-items: stretch;justify-content: center;background-color: white;position: relative;}#sk-container-id-4 div.sk-item::before, #sk-container-id-4 div.sk-parallel-item::before {content: \"\";position: absolute;border-left: 1px solid gray;box-sizing: border-box;top: 0;bottom: 0;left: 50%;z-index: -1;}#sk-container-id-4 div.sk-parallel-item {display: flex;flex-direction: column;z-index: 1;position: relative;background-color: white;}#sk-container-id-4 div.sk-parallel-item:first-child::after {align-self: flex-end;width: 50%;}#sk-container-id-4 div.sk-parallel-item:last-child::after {align-self: flex-start;width: 50%;}#sk-container-id-4 div.sk-parallel-item:only-child::after {width: 0;}#sk-container-id-4 div.sk-dashed-wrapped {border: 1px dashed gray;margin: 0 0.4em 0.5em 0.4em;box-sizing: border-box;padding-bottom: 0.4em;background-color: white;}#sk-container-id-4 div.sk-label label {font-family: monospace;font-weight: bold;display: inline-block;line-height: 1.2em;}#sk-container-id-4 div.sk-label-container {text-align: center;}#sk-container-id-4 div.sk-container {/* jupyter's `normalize.less` sets `[hidden] { display: none; }` but bootstrap.min.css set `[hidden] { display: none !important; }` so we also need the `!important` here to be able to override the default hidden behavior on the sphinx rendered scikit-learn.org. See: https://github.com/scikit-learn/scikit-learn/issues/21755 */display: inline-block !important;position: relative;}#sk-container-id-4 div.sk-text-repr-fallback {display: none;}</style><div id=\"sk-container-id-4\" class=\"sk-top-container\"><div class=\"sk-text-repr-fallback\"><pre>DecisionTreeClassifier(criterion=&#x27;entropy&#x27;, min_samples_split=10)</pre><b>In a Jupyter environment, please rerun this cell to show the HTML representation or trust the notebook. <br />On GitHub, the HTML representation is unable to render, please try loading this page with nbviewer.org.</b></div><div class=\"sk-container\" hidden><div class=\"sk-item\"><div class=\"sk-estimator sk-toggleable\"><input class=\"sk-toggleable__control sk-hidden--visually\" id=\"sk-estimator-id-8\" type=\"checkbox\" checked><label for=\"sk-estimator-id-8\" class=\"sk-toggleable__label sk-toggleable__label-arrow\">DecisionTreeClassifier</label><div class=\"sk-toggleable__content\"><pre>DecisionTreeClassifier(criterion=&#x27;entropy&#x27;, min_samples_split=10)</pre></div></div></div></div></div>"
      ],
      "text/plain": [
       "DecisionTreeClassifier(criterion='entropy', min_samples_split=10)"
      ]
     },
     "execution_count": 32,
     "metadata": {},
     "output_type": "execute_result"
    }
   ],
   "source": [
    "rcv.best_estimator_"
   ]
  },
  {
   "cell_type": "markdown",
   "id": "d81cfeb7",
   "metadata": {},
   "source": [
    "El atributo best_params_ en el contexto de aprendizaje automático se refiere a los mejores parámetros encontrados durante el proceso de búsqueda de hiperparámetros utilizando validación cruzada."
   ]
  },
  {
   "cell_type": "code",
   "execution_count": 33,
   "id": "009f70c3",
   "metadata": {
    "execution": {
     "iopub.execute_input": "2022-02-21T09:09:06.960921Z",
     "iopub.status.busy": "2022-02-21T09:09:06.960082Z",
     "iopub.status.idle": "2022-02-21T09:09:06.964263Z",
     "shell.execute_reply": "2022-02-21T09:09:06.964881Z",
     "shell.execute_reply.started": "2022-02-21T08:49:23.882712Z"
    },
    "papermill": {
     "duration": 0.059385,
     "end_time": "2022-02-21T09:09:06.965037",
     "exception": false,
     "start_time": "2022-02-21T09:09:06.905652",
     "status": "completed"
    },
    "tags": []
   },
   "outputs": [
    {
     "data": {
      "text/plain": [
       "{'min_samples_split': 10,\n",
       " 'max_leaf_nodes': None,\n",
       " 'max_depth': None,\n",
       " 'criterion': 'entropy'}"
      ]
     },
     "execution_count": 33,
     "metadata": {},
     "output_type": "execute_result"
    }
   ],
   "source": [
    "rcv.best_params_"
   ]
  },
  {
   "cell_type": "markdown",
   "id": "e3a35514",
   "metadata": {},
   "source": [
    "La línea de código X_train, X_test, y_train, y_test = train_test_split(X, y) se utiliza para dividir un conjunto de datos en conjuntos de entrenamiento y prueba. "
   ]
  },
  {
   "cell_type": "code",
   "execution_count": 34,
   "id": "3c050344",
   "metadata": {
    "execution": {
     "iopub.execute_input": "2022-02-21T09:09:07.074655Z",
     "iopub.status.busy": "2022-02-21T09:09:07.073640Z",
     "iopub.status.idle": "2022-02-21T09:09:07.078136Z",
     "shell.execute_reply": "2022-02-21T09:09:07.078770Z",
     "shell.execute_reply.started": "2022-02-21T08:49:23.899436Z"
    },
    "papermill": {
     "duration": 0.06177,
     "end_time": "2022-02-21T09:09:07.078966",
     "exception": false,
     "start_time": "2022-02-21T09:09:07.017196",
     "status": "completed"
    },
    "tags": []
   },
   "outputs": [],
   "source": [
    "X_train, X_test, y_train, y_test = train_test_split(X, y)"
   ]
  },
  {
   "cell_type": "markdown",
   "id": "e444b05d",
   "metadata": {
    "papermill": {
     "duration": 0.052401,
     "end_time": "2022-02-21T09:09:07.183512",
     "exception": false,
     "start_time": "2022-02-21T09:09:07.131111",
     "status": "completed"
    },
    "tags": []
   },
   "source": [
    "## Construyendo el modelo de Árbol de Decisión que mejor se ajuste"
   ]
  },
  {
   "cell_type": "markdown",
   "id": "98351944",
   "metadata": {},
   "source": [
    "El código dt = DecisionTreeClassifier(criterion='gini', max_leaf_nodes=15, min_samples_split=12).fit(X_train, y_train) se utiliza para crear y entrenar un modelo de clasificación basado en un árbol de decisión utilizando el clasificador DecisionTreeClassifier de scikit-learn."
   ]
  },
  {
   "cell_type": "code",
   "execution_count": 35,
   "id": "d8f06377",
   "metadata": {
    "execution": {
     "iopub.execute_input": "2022-02-21T09:09:07.291779Z",
     "iopub.status.busy": "2022-02-21T09:09:07.290897Z",
     "iopub.status.idle": "2022-02-21T09:09:07.296233Z",
     "shell.execute_reply": "2022-02-21T09:09:07.296835Z",
     "shell.execute_reply.started": "2022-02-21T08:49:23.914260Z"
    },
    "papermill": {
     "duration": 0.060879,
     "end_time": "2022-02-21T09:09:07.296999",
     "exception": false,
     "start_time": "2022-02-21T09:09:07.236120",
     "status": "completed"
    },
    "tags": []
   },
   "outputs": [],
   "source": [
    "dt = DecisionTreeClassifier(criterion = 'gini', max_leaf_nodes = 15, min_samples_split = 12).fit(X_train, y_train)"
   ]
  },
  {
   "cell_type": "markdown",
   "id": "28b4de66",
   "metadata": {},
   "source": [
    "dt.score(X_train, y_train) y dt.score(X_test, y_test) son llamadas al método score() aplicadas al modelo de clasificación dt para calcular la precisión del modelo en los conjuntos de entrenamiento y prueba, respectivamente."
   ]
  },
  {
   "cell_type": "code",
   "execution_count": 36,
   "id": "b7a0eb10",
   "metadata": {
    "execution": {
     "iopub.execute_input": "2022-02-21T09:09:07.404034Z",
     "iopub.status.busy": "2022-02-21T09:09:07.403212Z",
     "iopub.status.idle": "2022-02-21T09:09:07.410690Z",
     "shell.execute_reply": "2022-02-21T09:09:07.411258Z",
     "shell.execute_reply.started": "2022-02-21T08:49:23.929188Z"
    },
    "papermill": {
     "duration": 0.06242,
     "end_time": "2022-02-21T09:09:07.411409",
     "exception": false,
     "start_time": "2022-02-21T09:09:07.348989",
     "status": "completed"
    },
    "tags": []
   },
   "outputs": [
    {
     "data": {
      "text/plain": [
       "(1.0, 1.0)"
      ]
     },
     "execution_count": 36,
     "metadata": {},
     "output_type": "execute_result"
    }
   ],
   "source": [
    "dt.score(X_train, y_train), dt.score(X_test, y_test)"
   ]
  },
  {
   "cell_type": "markdown",
   "id": "9dac3a3a",
   "metadata": {
    "papermill": {
     "duration": 0.052768,
     "end_time": "2022-02-21T09:09:07.516740",
     "exception": false,
     "start_time": "2022-02-21T09:09:07.463972",
     "status": "completed"
    },
    "tags": []
   },
   "source": [
    "Como podemos observar, hemos logrado una precisión del 100% tanto para los conjuntos de entrenamiento como de prueba. Nuestro modelo es perfecto o casi perfecto."
   ]
  },
  {
   "cell_type": "markdown",
   "id": "47b61011",
   "metadata": {
    "papermill": {
     "duration": 0.052174,
     "end_time": "2022-02-21T09:09:07.621827",
     "exception": false,
     "start_time": "2022-02-21T09:09:07.569653",
     "status": "completed"
    },
    "tags": []
   },
   "source": [
    "## Evaluación de nuestro modelo\n",
    "* La figura a continuación mostrará cómo nuestro modelo ha predicho los valores y también mostrará las cantidades.\n",
    "\n",
    "* Los bloques en la diagonal son los valores predichos correctamente y los bloques fuera de la diagonal son los valores predichos incorrectamente."
   ]
  },
  {
   "cell_type": "code",
   "execution_count": 37,
   "id": "5c25d149",
   "metadata": {
    "execution": {
     "iopub.execute_input": "2022-02-21T09:09:07.735121Z",
     "iopub.status.busy": "2022-02-21T09:09:07.733963Z",
     "iopub.status.idle": "2022-02-21T09:09:07.967279Z",
     "shell.execute_reply": "2022-02-21T09:09:07.966836Z",
     "shell.execute_reply.started": "2022-02-21T09:03:42.453806Z"
    },
    "papermill": {
     "duration": 0.292102,
     "end_time": "2022-02-21T09:09:07.967401",
     "exception": false,
     "start_time": "2022-02-21T09:09:07.675299",
     "status": "completed"
    },
    "tags": []
   },
   "outputs": [
    {
     "data": {
      "image/png": "[encoded data removed]",
      "text/plain": [
       "<Figure size 640x480 with 2 Axes>"
      ]
     },
     "metadata": {},
     "output_type": "display_data"
    }
   ],
   "source": [
    "model_evaluation(dt)"
   ]
  },
  {
   "cell_type": "markdown",
   "id": "1d980225",
   "metadata": {},
   "source": [
    "La línea de código model_evaluation(dt) parece estar llamando a una función personalizada llamada model_evaluation() y pasando el modelo dt como argumento. Sin más información sobre la implementación específica de esa función, puedo proporcionar una explicación general de lo que se podría esperar que haga."
   ]
  },
  {
   "cell_type": "code",
   "execution_count": null,
   "id": "118507a6",
   "metadata": {},
   "outputs": [],
   "source": []
  }
 ],
 "metadata": {
  "kernelspec": {
   "display_name": "Python 3 (ipykernel)",
   "language": "python",
   "name": "python3"
  },
  "language_info": {
   "codemirror_mode": {
    "name": "ipython",
    "version": 3
   },
   "file_extension": ".py",
   "mimetype": "text/x-python",
   "name": "python",
   "nbconvert_exporter": "python",
   "pygments_lexer": "ipython3",
   "version": "3.10.9"
  },
  "papermill": {
   "default_parameters": {},
   "duration": 13.636213,
   "end_time": "2022-02-21T09:09:08.912346",
   "environment_variables": {},
   "exception": null,
   "input_path": "__notebook__.ipynb",
   "output_path": "__notebook__.ipynb",
   "parameters": {},
   "start_time": "2022-02-21T09:08:55.276133",
   "version": "2.3.3"
  }
 },
 "nbformat": 4,
 "nbformat_minor": 5
}
