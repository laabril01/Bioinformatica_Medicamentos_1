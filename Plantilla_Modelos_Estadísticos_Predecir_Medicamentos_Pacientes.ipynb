{
 "cells": [
  {
   "cell_type": "code",
   "execution_count": 2,
   "id": "643911e3",
   "metadata": {},
   "outputs": [],
   "source": [
    "import statsmodels.api as sm #Modelos estadísticos\n",
    "import numpy as np"
   ]
  },
  {
   "cell_type": "markdown",
   "id": "6f708380",
   "metadata": {},
   "source": [
    "#### Estadísticas Descriptivas"
   ]
  },
  {
   "cell_type": "markdown",
   "id": "017850e5",
   "metadata": {},
   "source": [
    "Si deseas una forma más corta y sencilla de graficar una distribución normal en Python utilizando np.random.normal, puedes hacer lo siguiente:"
   ]
  },
  {
   "cell_type": "code",
   "execution_count": 1,
   "id": "a89fe68e",
   "metadata": {
    "scrolled": true
   },
   "outputs": [
    {
     "data": {
      "image/png": "[encoded data removed]",
      "text/plain": [
       "<Figure size 640x480 with 1 Axes>"
      ]
     },
     "metadata": {},
     "output_type": "display_data"
    }
   ],
   "source": [
    "import numpy as np\n",
    "import matplotlib.pyplot as plt\n",
    "\n",
    "# Generar datos para la distribución normal\n",
    "data = np.random.normal(0, 1, 1000)\n",
    "\n",
    "# Graficar el histograma de los datos generados\n",
    "plt.hist(data, bins=30, density=True, alpha=0.7)\n",
    "plt.title('Distribución Normal')\n",
    "plt.xlabel('Valores')\n",
    "plt.ylabel('Densidad')\n",
    "plt.grid(True)\n",
    "plt.show()"
   ]
  },
  {
   "cell_type": "markdown",
   "id": "b4805f49",
   "metadata": {},
   "source": [
    "En este ejemplo, utilizamos np.random.normal para generar una muestra de 1000 datos de una distribución normal con media 0 y desviación estándar 1. Luego, utilizamos plt.hist para graficar el histograma de los datos generados. El argumento bins establece el número de contenedores en el histograma, density=True normaliza el histograma para que represente la densidad de probabilidad y alpha=0.7 ajusta la transparencia de las barras del histograma.\n",
    "\n",
    "Este enfoque es más corto y simple, pero cabe mencionar que se trata de un histograma de los datos generados, no de una representación suave de la función de densidad de probabilidad. Dependiendo de tus necesidades, puedes elegir el enfoque que mejor se adapte a tu caso."
   ]
  },
  {
   "cell_type": "code",
   "execution_count": 4,
   "id": "eefd9552",
   "metadata": {},
   "outputs": [
    {
     "name": "stdout",
     "output_type": "stream",
     "text": [
      "<statsmodels.stats.weightstats.DescrStatsW object at 0x000002BF8ABC09A0>\n"
     ]
    }
   ],
   "source": [
    "import statsmodels.api as sm\n",
    "\n",
    "# Generar variables aleatorias de una distribución normal con numpy\n",
    "normalRandomVariables = np.random.normal(0,1, 1000)\n",
    "\n",
    "# Crear un objeto que contenga estadísticas descriptivas como variables.\n",
    "x = sm.stats.DescrStatsW(normalRandomVariables)\n",
    "\n",
    "print(x)"
   ]
  },
  {
   "cell_type": "markdown",
   "id": "75c4797d",
   "metadata": {},
   "source": [
    "Como puedes ver en la salida anterior, hemos creado un objeto con el tipo \"statsmodels.stats.weightstats.DescrStatsW\".\n",
    "\n",
    "Este objeto almacena diversas estadísticas descriptivas como la media, la desviación estándar, la varianza, etc., a las cuales podemos acceder."
   ]
  },
  {
   "cell_type": "code",
   "execution_count": 4,
   "id": "ae0b9f51",
   "metadata": {},
   "outputs": [
    {
     "name": "stdout",
     "output_type": "stream",
     "text": [
      "-0.04834848407724988\n",
      "0.9673230492032244\n",
      "0.9357138815198238\n"
     ]
    }
   ],
   "source": [
    "# Media\n",
    "print(x.mean)\n",
    "\n",
    "# Desviación Estándar\n",
    "print(x.std)\n",
    "\n",
    "# Varianza\n",
    "print(x.var)"
   ]
  },
  {
   "cell_type": "markdown",
   "id": "6710ab7d",
   "metadata": {},
   "source": [
    "La salida anterior muestra la media, la desviación estándar y la varianza de las 1000 variables aleatorias que generamos a partir de la distribución anteriormente generada.\n",
    "\n",
    "Hay otras cosas interesantes que puedes hacer con este objeto, como generar intervalos de confianza y realizar pruebas de hipótesis.\n",
    "\n",
    "#### Intervalos de Confianza"
   ]
  },
  {
   "cell_type": "code",
   "execution_count": 5,
   "id": "22d40e49",
   "metadata": {},
   "outputs": [
    {
     "data": {
      "text/plain": [
       "(0.8227378265796143, 0.8772621734203857)"
      ]
     },
     "execution_count": 5,
     "metadata": {},
     "output_type": "execute_result"
    }
   ],
   "source": [
    "# Generar un intervalo de confianza para una proporción de población.\n",
    "tstar = 1.96\n",
    "\n",
    "# Proporción observada de la población.\n",
    "p = .85\n",
    "\n",
    "# Tamaño de la población\n",
    "n = 659\n",
    "\n",
    "# Construir el intervalo de confianza\n",
    "sm.stats.proportion_confint(n * p, n)"
   ]
  },
  {
   "cell_type": "markdown",
   "id": "4a0ef0a0",
   "metadata": {},
   "source": [
    "La salida anterior incluye los límites inferior y superior de un intervalo de confianza del 95% para la proporción de la población."
   ]
  },
  {
   "cell_type": "code",
   "execution_count": 6,
   "id": "6997be23",
   "metadata": {},
   "outputs": [
    {
     "data": {
      "text/plain": [
       "(76.57715593233026, 88.38284406766975)"
      ]
     },
     "execution_count": 6,
     "metadata": {},
     "output_type": "execute_result"
    }
   ],
   "source": [
    "import pandas as pd\n",
    "\n",
    "# Importar los datos que se utilizarán para construir el intervalo de confianza de la media poblacional.\n",
    "df = pd.read_csv(\"https://raw.githubusercontent.com/UMstatspy/UMStatsPy/master/Course_1/Cartwheeldata.csv\")\n",
    "\n",
    "# Generar un intervalo de confianza para la media poblacional.\n",
    "sm.stats.DescrStatsW(df[\"CWDistance\"]).zconfint_mean()"
   ]
  },
  {
   "cell_type": "markdown",
   "id": "27ca23d1",
   "metadata": {},
   "source": [
    "La salida anterior muestra los límites inferior y superior de un intervalo de confianza del 95% para la media poblacional.\n",
    "\n",
    "Estas funciones deberían ser familiares, pero si no lo son, te recomendamos tomar el curso 2 de nuestra especialización.\n",
    "\n",
    "\n",
    "#### Pruebas de Hipótesis"
   ]
  },
  {
   "cell_type": "code",
   "execution_count": 7,
   "id": "8bb2993a",
   "metadata": {},
   "outputs": [
    {
     "data": {
      "text/plain": [
       "(2.571067795759113, 0.010138547731721065)"
      ]
     },
     "execution_count": 7,
     "metadata": {},
     "output_type": "execute_result"
    }
   ],
   "source": [
    "# Prueba de hipótesis de una proporción de población.\n",
    "\n",
    "# Tamaño de la población.\n",
    "n = 1018\n",
    "\n",
    "# Hipótesis nula de la proporción de población\n",
    "pnull = .52\n",
    "\n",
    "# Proporción observada de la población\n",
    "phat = .56\n",
    "\n",
    "# Calcular el estadístico de prueba y el valor p\n",
    "sm.stats.proportions_ztest(phat * n, n, pnull)"
   ]
  },
  {
   "cell_type": "code",
   "execution_count": 8,
   "id": "2c856fe0",
   "metadata": {},
   "outputs": [
    {
     "data": {
      "text/plain": [
       "(0.8234523266982029, 0.20512540845395266)"
      ]
     },
     "execution_count": 8,
     "metadata": {},
     "output_type": "execute_result"
    }
   ],
   "source": [
    "# Usando el dataframe importado anteriormente, realizar una prueba de hipótesis para la media poblacional.\n",
    "sm.stats.ztest(df[\"CWDistance\"], value = 80, alternative = \"larger\")"
   ]
  },
  {
   "cell_type": "markdown",
   "id": "262aa985",
   "metadata": {},
   "source": [
    "#### Mínimos Cuadrados Ordinarios\n",
    "\n",
    "Mínimos Cuadrados Ordinarios es un método para estimar los parámetros desconocidos en un modelo de regresión lineal. Esta es la función que utilizaremos cuando nuestra variable objetivo es continua."
   ]
  },
  {
   "cell_type": "code",
   "execution_count": 3,
   "id": "4ab0e8b0",
   "metadata": {},
   "outputs": [
    {
     "name": "stdout",
     "output_type": "stream",
     "text": [
      "                            OLS Regression Results                            \n",
      "==============================================================================\n",
      "Dep. Variable:                 BPXSY1   R-squared:                       0.215\n",
      "Model:                            OLS   Adj. R-squared:                  0.214\n",
      "Method:                 Least Squares   F-statistic:                     697.4\n",
      "Date:                Fri, 02 Jun 2023   Prob (F-statistic):          1.87e-268\n",
      "Time:                        14:21:07   Log-Likelihood:                -21505.\n",
      "No. Observations:                5102   AIC:                         4.302e+04\n",
      "Df Residuals:                    5099   BIC:                         4.304e+04\n",
      "Df Model:                           2                                         \n",
      "Covariance Type:            nonrobust                                         \n",
      "=====================================================================================\n",
      "                        coef    std err          t      P>|t|      [0.025      0.975]\n",
      "-------------------------------------------------------------------------------------\n",
      "Intercept           100.6305      0.712    141.257      0.000      99.234     102.027\n",
      "RIAGENDRx[T.Male]     3.2322      0.459      7.040      0.000       2.332       4.132\n",
      "RIDAGEYR              0.4739      0.013     36.518      0.000       0.448       0.499\n",
      "==============================================================================\n",
      "Omnibus:                      706.732   Durbin-Watson:                   2.036\n",
      "Prob(Omnibus):                  0.000   Jarque-Bera (JB):             1582.730\n",
      "Skew:                           0.818   Prob(JB):                         0.00\n",
      "Kurtosis:                       5.184   Cond. No.                         168.\n",
      "==============================================================================\n",
      "\n",
      "Notes:\n",
      "[1] Standard Errors assume that the covariance matrix of the errors is correctly specified.\n"
     ]
    }
   ],
   "source": [
    "import pandas as pd\n",
    "import statsmodels.api as sm\n",
    "\n",
    "da = pd.read_csv(\"nhanes_2015_2016.csv\")\n",
    "\n",
    "# Eliminar columnas no utilizadas, eliminar filas con valores faltantes.\n",
    "vars = [\"BPXSY1\", \"RIDAGEYR\", \"RIAGENDR\", \"RIDRETH1\", \"DMDEDUC2\", \"BMXBMI\",\n",
    "        \"SMQ020\", \"SDMVSTRA\", \"SDMVPSU\"]\n",
    "da = da[vars].dropna()\n",
    "\n",
    "da[\"RIAGENDRx\"] = da.RIAGENDR.replace({1: \"Male\", 2: \"Female\"})\n",
    "\n",
    "model = sm.OLS.from_formula(\"BPXSY1 ~ RIDAGEYR + RIAGENDRx\", data=da)\n",
    "res = mode\n",
    "l.fit()\n",
    "print(res.summary())"
   ]
  },
  {
   "cell_type": "markdown",
   "id": "20761caa",
   "metadata": {},
   "source": [
    "El código anterior está creando una regresión lineal múltiple donde la variable objetivo es BPXSY1 y \n",
    "las dos variables predictoras son RIDAGEYR y RIAGENDRx.\n",
    "\n",
    "Cabe destacar que la variable objetivo, BPXSY1, es una variable continua que representa la presión arterial."
   ]
  },
  {
   "cell_type": "markdown",
   "id": "45d4c009",
   "metadata": {},
   "source": [
    "### Análisis Mínimos Cuadrados Ordinarios"
   ]
  },
  {
   "cell_type": "markdown",
   "id": "f12706b8",
   "metadata": {},
   "source": [
    "Estos datos corresponden a los resultados de una regresión lineal ordinaria (OLS, por sus siglas en inglés). A continuación, se describen los principales aspectos interpretativos de los resultados:\n",
    "\n",
    "* R-cuadrado (R-squared): El coeficiente de determinación R-cuadrado indica la proporción de la varianza total de la variable dependiente (BPXSY1) que es explicada por el modelo. En este caso, el R-cuadrado es de 0.215, lo que significa que aproximadamente el 21.5% de la variabilidad de BPXSY1 puede ser explicada por las variables incluidas en el modelo.\n",
    "\n",
    "* Coeficientes: Los coeficientes estimados para las variables independientes son los siguientes:\n",
    "\n",
    "* Intercept: El valor del intercepto es 100.6305. Esto significa que cuando todas las variables independientes son iguales a cero, se espera que la variable dependiente tenga un valor de 100.6305.\n",
    "\n",
    "* RIAGENDRx[T.Male]: Este coeficiente de 3.2322 indica el cambio promedio en la variable dependiente cuando se pasa de la categoría de género femenino (codificado como 0) a la categoría de género masculino (codificado como 1), manteniendo constante el valor de la otra variable independiente. En este caso, un cambio en el género de femenino a masculino se asocia, en promedio, con un aumento de 3.2322 en BPXSY1.\n",
    "\n",
    "* RIDAGEYR: El coeficiente de 0.4739 indica el cambio promedio en la variable dependiente por cada unidad adicional en RIDAGEYR (edad), manteniendo constante el valor de la otra variable independiente. Por lo tanto, se espera que por cada año adicional en la edad, la variable dependiente aumente en 0.4739 unidades.\n",
    "\n",
    "* Estadísticos de significancia: La columna P>|t| proporciona los valores p asociados con los coeficientes estimados. Estos valores p se utilizan para evaluar la significancia estadística de los coeficientes. En este caso, todos los coeficientes tienen valores p muy bajos (menores que 0.001), lo que indica que son estadísticamente significativos.\n",
    "\n",
    "* Estadísticos adicionales: Los resultados también incluyen otros estadísticos como el estadístico F, el log-verosimilitud, el número de observaciones, el AIC (criterio de información de Akaike) y el BIC (criterio de información bayesiano). Estos estadísticos proporcionan información adicional sobre el ajuste y la calidad del modelo.\n",
    "\n",
    "* Diagnóstico de residuos: Los estadísticos de omnibus, Durbin-Watson, Jarque-Bera (JB), skewness y kurtosis son medidas utilizadas para evaluar la normalidad y la independencia de los residuos del modelo. En este caso, el estadístico de omnibus y el estadístico JB sugieren que los residuos no siguen una distribución normal, mientras que el estadístico Durbin-Watson indica cierta correlación serial de los residuos.\n",
    "\n",
    "* Condición número (Cond. No.): El condicionamiento del número se utiliza para evaluar la multicolinealidad en el modelo. Un valor alto del condicionamiento del número indica una alta multicolinealidad."
   ]
  },
  {
   "cell_type": "markdown",
   "id": "cf7ca2ff",
   "metadata": {},
   "source": [
    "#### Modelos Lineales Generalizados\n",
    "\n",
    "Si bien los modelos lineales generalizados son un tema amplio, en este curso estaremos utilizando esta suite de funciones para llevar a cabo la regresión logística. La regresión logística se utiliza cuando nuestra variable objetivo es un resultado binario, o una clasificación de dos grupos, que pueden ser denotados como grupo 0 y grupo 1."
   ]
  },
  {
   "cell_type": "code",
   "execution_count": 5,
   "id": "0158ee88",
   "metadata": {},
   "outputs": [
    {
     "name": "stdout",
     "output_type": "stream",
     "text": [
      "                 Generalized Linear Model Regression Results                  \n",
      "==============================================================================\n",
      "Dep. Variable:                    smq   No. Observations:                 5094\n",
      "Model:                            GLM   Df Residuals:                     5092\n",
      "Model Family:                Binomial   Df Model:                            1\n",
      "Link Function:                  Logit   Scale:                          1.0000\n",
      "Method:                          IRLS   Log-Likelihood:                -3350.6\n",
      "Date:                Fri, 02 Jun 2023   Deviance:                       6701.2\n",
      "Time:                        14:24:52   Pearson chi2:                 5.09e+03\n",
      "No. Iterations:                     4   Pseudo R-squ. (CS):            0.04557\n",
      "Covariance Type:            nonrobust                                         \n",
      "=====================================================================================\n",
      "                        coef    std err          z      P>|z|      [0.025      0.975]\n",
      "-------------------------------------------------------------------------------------\n",
      "Intercept            -0.7547      0.042    -18.071      0.000      -0.837      -0.673\n",
      "RIAGENDRx[T.Male]     0.8851      0.058     15.227      0.000       0.771       0.999\n",
      "=====================================================================================\n"
     ]
    }
   ],
   "source": [
    "import numpy as np\n",
    "\n",
    "da[\"smq\"] = da.SMQ020.replace({2: 0, 7: np.nan, 9: np.nan})\n",
    "model = sm.GLM.from_formula(\"smq ~ RIAGENDRx\", family=sm.families.Binomial(), data=da)\n",
    "res = model.fit()\n",
    "print(res.summary())"
   ]
  },
  {
   "cell_type": "markdown",
   "id": "80ba8229",
   "metadata": {},
   "source": [
    "Arriba hay un ejemplo de creación de un modelo logístico donde el valor objetivo es SMQ020x, que en este caso es si esta persona es fumadora o no. El predictor es RIAGENDRx, que representa el género."
   ]
  },
  {
   "cell_type": "markdown",
   "id": "99e3bbc2",
   "metadata": {},
   "source": [
    "#### Ecuaciones Estimadas Generalizadas\n",
    "\n",
    "Las Ecuaciones Estimadas Generalizadas calculan modelos lineales generalizados para datos de paneles, conglomerados o medidas repetidas cuando las observaciones pueden estar correlacionadas dentro de un conglomerado pero no correlacionadas entre conglomerados. Estas se utilizan principalmente cuando existe incertidumbre con respecto a la correlación entre los resultados. Las \"Ecuaciones Estimadas Generalizadas\" (GEE) ajustan modelos lineales marginales y estiman la correlación intraclase."
   ]
  },
  {
   "cell_type": "code",
   "execution_count": 6,
   "id": "be726008",
   "metadata": {},
   "outputs": [
    {
     "name": "stdout",
     "output_type": "stream",
     "text": [
      "The correlation between two observations in the same cluster is 0.030\n"
     ]
    }
   ],
   "source": [
    "da[\"group\"] = 10*da.SDMVSTRA + da.SDMVPSU\n",
    "model = sm.GEE.from_formula(\"BPXSY1 ~ 1\", groups=\"group\", cov_struct=sm.cov_struct.Exchangeable(), data=da)\n",
    "res = model.fit()\n",
    "print(res.cov_struct.summary())\n"
   ]
  },
  {
   "cell_type": "markdown",
   "id": "1e31bc37",
   "metadata": {},
   "source": [
    "Aquí estamos creando un modelo lineal marginal de BPXSY1 para determinar el valor estimado de la ICC, lo cual indicaría si existen conglomerados correlacionados de BPXSY1."
   ]
  },
  {
   "cell_type": "markdown",
   "id": "5becc978",
   "metadata": {},
   "source": [
    "#### Modelos Multinivel\n",
    "\n",
    "Al igual que con las Ecuaciones Estimadas Generalizadas (GEE), utilizamos modelos multinivel cuando existe la posibilidad de que los resultados estén agrupados, lo cual no es infrecuente al utilizar diversos métodos de muestreo para recopilar datos."
   ]
  },
  {
   "cell_type": "code",
   "execution_count": 7,
   "id": "f6ef3c80",
   "metadata": {},
   "outputs": [
    {
     "name": "stdout",
     "output_type": "stream",
     "text": [
      "BPXSY1 The correlation between two observations in the same cluster is 0.030\n",
      "RIDAGEYR The correlation between two observations in the same cluster is 0.035\n",
      "BMXBMI The correlation between two observations in the same cluster is 0.039\n",
      "smq The correlation between two observations in the same cluster is 0.026\n",
      "SDMVSTRA The correlation between two observations in the same cluster is 0.959\n"
     ]
    }
   ],
   "source": [
    "for v in [\"BPXSY1\", \"RIDAGEYR\", \"BMXBMI\", \"smq\", \"SDMVSTRA\"]:\n",
    "    model = sm.GEE.from_formula(v + \" ~ 1\", groups=\"group\",\n",
    "           cov_struct=sm.cov_struct.Exchangeable(), data=da)\n",
    "    result = model.fit()\n",
    "    print(v, result.cov_struct.summary())"
   ]
  }
 ],
 "metadata": {
  "kernelspec": {
   "display_name": "Python 3 (ipykernel)",
   "language": "python",
   "name": "python3"
  },
  "language_info": {
   "codemirror_mode": {
    "name": "ipython",
    "version": 3
   },
   "file_extension": ".py",
   "mimetype": "text/x-python",
   "name": "python",
   "nbconvert_exporter": "python",
   "pygments_lexer": "ipython3",
   "version": "3.10.9"
  }
 },
 "nbformat": 4,
 "nbformat_minor": 5
}
